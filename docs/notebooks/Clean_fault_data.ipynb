{
 "cells": [
  {
   "cell_type": "code",
   "execution_count": null,
   "id": "d907739f",
   "metadata": {},
   "outputs": [
    {
     "name": "stdout",
     "output_type": "stream",
     "text": [
      "Requirement already satisfied: pandas in d:\\projects\\tableau\\my creations\\israel's earthquakes\\.venv\\lib\\site-packages (2.3.1)\n",
      "Requirement already satisfied: numpy>=1.26.0 in d:\\projects\\tableau\\my creations\\israel's earthquakes\\.venv\\lib\\site-packages (from pandas) (2.3.2)\n",
      "Requirement already satisfied: python-dateutil>=2.8.2 in d:\\projects\\tableau\\my creations\\israel's earthquakes\\.venv\\lib\\site-packages (from pandas) (2.9.0.post0)\n",
      "Requirement already satisfied: pytz>=2020.1 in d:\\projects\\tableau\\my creations\\israel's earthquakes\\.venv\\lib\\site-packages (from pandas) (2025.2)\n",
      "Requirement already satisfied: tzdata>=2022.7 in d:\\projects\\tableau\\my creations\\israel's earthquakes\\.venv\\lib\\site-packages (from pandas) (2025.2)\n",
      "Requirement already satisfied: six>=1.5 in d:\\projects\\tableau\\my creations\\israel's earthquakes\\.venv\\lib\\site-packages (from python-dateutil>=2.8.2->pandas) (1.17.0)\n",
      "Note: you may need to restart the kernel to use updated packages.\n"
     ]
    }
   ],
   "source": [
    "pip install pandas geopandas"
   ]
  },
  {
   "cell_type": "code",
   "execution_count": 1,
   "id": "7cc2baa0",
   "metadata": {},
   "outputs": [],
   "source": [
    "# Import the necessary libraries\n",
    "import pandas as pd\n",
    "import geopandas as gpd\n",
    "import os"
   ]
  },
  {
   "cell_type": "code",
   "execution_count": 10,
   "id": "0ff7530c",
   "metadata": {},
   "outputs": [],
   "source": [
    "def load_and_filter_fault_data():\n",
    "    \"\"\"\n",
    "    Load fault data from GeoJSON and filter for EMME catalog entries.\n",
    "    \n",
    "    Returns:\n",
    "        gpd.GeoDataFrame: Filtered fault data containing only EMME catalog entries\n",
    "    \"\"\"\n",
    "    \n",
    "    # Load the fault data\n",
    "    fault_data_path = \"data/RAW/gem_active_faults_harmonized.geojson\"\n",
    "    \n",
    "    if not os.path.exists(fault_data_path):\n",
    "        raise FileNotFoundError(f\"Fault data file not found: {fault_data_path}\")\n",
    "    \n",
    "    # Read the GeoJSON file into a GeoDataFrame\n",
    "    faults_gdf = gpd.read_file(fault_data_path)\n",
    "    catalog_ids_to_keep = [\n",
    "    \"ME_GRCS696\", \"ME_GRCS697\", \"ME_GRCS698\", \"ME_GRCS699\", \"ME_JO1\", \"ME_JO2\", \"ME_JO3\", \"ME_JO4\", \"ME_JO5\", \"ME_JO7\", \"ME_JO8\", \"ME_JO99s1\", \"ME_JO99s2\", \"ME_LB1s2\", \"ME_LB2\", \"ME_LB3s1\", \"ME_LB3s2\", \"ME_SY1s2\", \"ME_SY1s3s1\", \"ME_SY1s5\", \"ME_SY1s6\", \"ME_SY2As3s3\", \"ME_SY2s1s2\", \"ME_SY2s1s3\", \"ME_SY2s2\", \"ME_SY2s3s3\", \"NAF_90\", \"NAF_91\", \"NAF_92\", \"NAF_93\", \"NAF_94\", \"NAF_95\", \"NAF_96\", \"NAF_97\", \"NAF_98\", \"NAF_99\", \"NAF_100\", \"NAF_101\", \"NAF_102\", \"NAF_103\", \"NAF_104\", \"NAF_105\", \"NAF_106\", \"NAF_107\", \"NAF_108\", \"NAF_109\", \"NAF_110\", \"NAF_111\", \"NAF_112\", \"NAF_113\"\n",
    "    ]\n",
    "    # Filter for EMME catalog entries only\n",
    "    emme_faults = faults_gdf[faults_gdf['catalog_id'].isin(catalog_ids_to_keep)].copy()\n",
    "\n",
    "    # Show first few records\n",
    "    print(f\"\\nFirst 3 fault records:\")\n",
    "    print(emme_faults.head(3))\n",
    "    \n",
    "    return emme_faults"
   ]
  },
  {
   "cell_type": "code",
   "execution_count": 11,
   "id": "34d872b7",
   "metadata": {},
   "outputs": [],
   "source": [
    "def save_emme_faults(emme_faults_gdf, output_filename=\"EMME_faults.geojson\"):\n",
    "    \"\"\"\n",
    "    Save the filtered EMME fault data to a GeoJSON file.\n",
    "    \n",
    "    Args:\n",
    "        emme_faults_gdf (gpd.GeoDataFrame): Filtered EMME fault data\n",
    "        output_filename (str): Output filename for the GeoJSON file\n",
    "    \"\"\"\n",
    "    \n",
    "    if len(emme_faults_gdf) == 0:\n",
    "        print(\"No EMME fault data to save.\")\n",
    "        return\n",
    "    \n",
    "    print(f\"\\nSaving EMME fault data to {output_filename}...\")\n",
    "    emme_faults_gdf.to_file(output_filename, driver='GeoJSON')\n",
    "    \n",
    "    # Verify the file was created\n",
    "    if os.path.exists(output_filename):\n",
    "        file_size = os.path.getsize(output_filename)\n",
    "        print(f\"✓ Successfully saved {len(emme_faults_gdf)} fault segments to {output_filename}\")\n",
    "        print(f\"  File size: {file_size:,} bytes\")\n",
    "    else:\n",
    "        print(f\"✗ Error: Failed to create {output_filename}\")"
   ]
  },
  {
   "cell_type": "code",
   "execution_count": 12,
   "id": "ffb54a5a",
   "metadata": {},
   "outputs": [],
   "source": [
    "def main():\n",
    "    \"\"\"Main function to process fault data.\"\"\"\n",
    "    \n",
    "    try:\n",
    "        # Load and filter fault data\n",
    "        emme_faults = load_and_filter_fault_data()\n",
    "        \n",
    "        # Save filtered data\n",
    "        save_emme_faults(emme_faults)\n",
    "        \n",
    "        print(\"\\n\" + \"=\"*50)\n",
    "        print(\"Fault data processing completed successfully!\")\n",
    "        print(\"=\"*50)\n",
    "        \n",
    "    except Exception as e:\n",
    "        print(f\"Error processing fault data: {str(e)}\")\n",
    "        raise"
   ]
  },
  {
   "cell_type": "code",
   "execution_count": 13,
   "id": "98251209",
   "metadata": {},
   "outputs": [
    {
     "name": "stdout",
     "output_type": "stream",
     "text": [
      "\n",
      "First 3 fault records:\n",
      "           average_dip      average_rake  catalog_id catalog_name dip_dir  \\\n",
      "1687  (35.0,25.0,45.0)   (97,80.0,115.0)  ME_GRCS696         EMME    None   \n",
      "1688  (35.0,25.0,45.0)  (115,90.0,140.0)  ME_GRCS697         EMME    None   \n",
      "1689  (35.0,25.0,45.0)   (97,80.0,115.0)  ME_GRCS698         EMME    None   \n",
      "\n",
      "     lower_seis_depth  name   net_slip_rate        slip_type upper_seis_depth  \\\n",
      "1687         (17.5,,)  None  (0.8,0.19,1.5)          Reverse          (3.0,,)   \n",
      "1688         (17.5,,)  None  (0.8,0.14,1.5)  Dextral-Reverse          (3.0,,)   \n",
      "1689         (17.5,,)  None  (0.8,0.14,1.5)          Reverse          (3.0,,)   \n",
      "\n",
      "      ... activity_confidence fs_name last_movement downthrown_side_dir  \\\n",
      "1687  ...                None    None          None                None   \n",
      "1688  ...                None    None          None                None   \n",
      "1689  ...                None    None          None                None   \n",
      "\n",
      "     vert_sep_rate strike_slip_rate exposure_quality shortening_rate notes  \\\n",
      "1687          None             None             None            None  None   \n",
      "1688          None             None             None            None  None   \n",
      "1689          None             None             None            None  None   \n",
      "\n",
      "                                               geometry  \n",
      "1687  LINESTRING (33.26777 35.3152, 33.3608 35.21563...  \n",
      "1688  LINESTRING (32.38428 34.81936, 32.44931 34.744...  \n",
      "1689  LINESTRING (33.40675 34.84453, 33.44634 34.811...  \n",
      "\n",
      "[3 rows x 24 columns]\n",
      "\n",
      "Saving EMME fault data to EMME_faults.geojson...\n",
      "✓ Successfully saved 50 fault segments to EMME_faults.geojson\n",
      "  File size: 85,979 bytes\n",
      "\n",
      "==================================================\n",
      "Fault data processing completed successfully!\n",
      "==================================================\n"
     ]
    }
   ],
   "source": [
    "main()"
   ]
  }
 ],
 "metadata": {
  "kernelspec": {
   "display_name": ".venv",
   "language": "python",
   "name": "python3"
  },
  "language_info": {
   "codemirror_mode": {
    "name": "ipython",
    "version": 3
   },
   "file_extension": ".py",
   "mimetype": "text/x-python",
   "name": "python",
   "nbconvert_exporter": "python",
   "pygments_lexer": "ipython3",
   "version": "3.13.4"
  }
 },
 "nbformat": 4,
 "nbformat_minor": 5
}
