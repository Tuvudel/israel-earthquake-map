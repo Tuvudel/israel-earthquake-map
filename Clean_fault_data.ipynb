{
 "cells": [
  {
   "cell_type": "code",
   "execution_count": 2,
   "id": "d907739f",
   "metadata": {},
   "outputs": [
    {
     "name": "stdout",
     "output_type": "stream",
     "text": [
      "Requirement already satisfied: pandas in d:\\projects\\tableau\\my creations\\israel's earthquakes\\.venv\\lib\\site-packages (2.3.1)\n",
      "Requirement already satisfied: numpy>=1.26.0 in d:\\projects\\tableau\\my creations\\israel's earthquakes\\.venv\\lib\\site-packages (from pandas) (2.3.2)\n",
      "Requirement already satisfied: python-dateutil>=2.8.2 in d:\\projects\\tableau\\my creations\\israel's earthquakes\\.venv\\lib\\site-packages (from pandas) (2.9.0.post0)\n",
      "Requirement already satisfied: pytz>=2020.1 in d:\\projects\\tableau\\my creations\\israel's earthquakes\\.venv\\lib\\site-packages (from pandas) (2025.2)\n",
      "Requirement already satisfied: tzdata>=2022.7 in d:\\projects\\tableau\\my creations\\israel's earthquakes\\.venv\\lib\\site-packages (from pandas) (2025.2)\n",
      "Requirement already satisfied: six>=1.5 in d:\\projects\\tableau\\my creations\\israel's earthquakes\\.venv\\lib\\site-packages (from python-dateutil>=2.8.2->pandas) (1.17.0)\n",
      "Note: you may need to restart the kernel to use updated packages.\n"
     ]
    }
   ],
   "source": [
    "pip install pandas"
   ]
  },
  {
   "cell_type": "code",
   "execution_count": 1,
   "id": "7cc2baa0",
   "metadata": {},
   "outputs": [],
   "source": [
    "# Import the necessary libraries\n",
    "import pandas as pd\n",
    "import numpy as np"
   ]
  },
  {
   "cell_type": "code",
   "execution_count": 4,
   "id": "56e13cbf",
   "metadata": {},
   "outputs": [],
   "source": [
    "# Clean the fault lines raw data\n",
    "\n",
    "def flatten_coordinates(fault_data):\n",
    "    \"\"\"Helper function to flatten nested coordinate lists\"\"\"\n",
    "    flattened = []\n",
    "    for item in fault_data:\n",
    "        # Check if item is a list of coordinates or a single coordinate\n",
    "        if isinstance(item[0], list):\n",
    "            # If double brackets, extend the flattened list\n",
    "            flattened.extend(item)\n",
    "        else:\n",
    "            # If single coordinate pair, append it\n",
    "            flattened.append(item)\n",
    "    return flattened\n",
    "\n",
    "def convert_fault_lines_to_df(fault_data, fault_type):\n",
    "    \"\"\"Function to convert fault lines data to a DataFrame\"\"\"\n",
    "    # Initialize empty lists to store the flattened data\n",
    "    latitudes = []\n",
    "    longitudes = []\n",
    "    types = []\n",
    "    \n",
    "    # Flatten the coordinates if needed\n",
    "    coords = flatten_coordinates(fault_data)\n",
    "    \n",
    "    # Process coordinate pairs\n",
    "    for coord in coords:\n",
    "        latitudes.append(coord[0])\n",
    "        longitudes.append(coord[1])\n",
    "        types.append(fault_type)\n",
    "    \n",
    "    # Create DataFrame\n",
    "    df = pd.DataFrame({\n",
    "        'latitude': latitudes,\n",
    "        'longitude': longitudes,\n",
    "        'type': types\n",
    "    })\n",
    "    \n",
    "    return df\n",
    "\n",
    "# Load the fault line data from file\n",
    "\n",
    "fault_lines_df = pd.DataFrame()\n",
    "\n",
    "with open('fault_lines_raw.txt', 'r') as file:\n",
    "    content = file.read()\n",
    "    \n",
    "    # Split content by semicolon or newline to get each fault type definition\n",
    "    fault_definitions = [line.strip() for line in content.split(';')]\n",
    "    \n",
    "    # Process each fault definition\n",
    "    for definition in fault_definitions:\n",
    "        if '=' in definition:\n",
    "            fault_name, fault_data = definition.split('=')\n",
    "            fault_name = fault_name.strip()\n",
    "            try:\n",
    "                # Safely evaluate the string representation of lists\n",
    "                fault_coords = eval(fault_data.strip())\n",
    "                \n",
    "                # Convert to DataFrame with the fault type name\n",
    "                fault_type = fault_name.lower()  # Convert to lowercase for consistency\n",
    "                fault_df = convert_fault_lines_to_df(fault_coords, fault_type)\n",
    "                \n",
    "                # Append to main DataFrame\n",
    "                fault_lines_df = pd.concat([fault_lines_df, fault_df], ignore_index=True)\n",
    "            except:\n",
    "                print(f\"Could not process fault type: {fault_name}\")\n",
    "\n",
    "# Display first few rows\n",
    "ws:\")\n",
    "print(fault_lines_df.head())\n",
    "print(\"\\nUnique fault types:\")\n",
    "\n",
    "print(fault_lines_df.info())\n",
    "fault_lines_df.head()"
   ]
  },
  {
   "cell_type": "code",
   "execution_count": 5,
   "id": "9cc0d7e6",
   "metadata": {},
   "outputs": [
    {
     "data": {
      "application/vnd.microsoft.datawrangler.viewer.v0+json": {
       "columns": [
        {
         "name": "index",
         "rawType": "int64",
         "type": "integer"
        },
        {
         "name": "latitude",
         "rawType": "float64",
         "type": "float"
        },
        {
         "name": "longitude",
         "rawType": "float64",
         "type": "float"
        },
        {
         "name": "type",
         "rawType": "object",
         "type": "string"
        }
       ],
       "ref": "b96a999e-cff7-4d02-b625-e411decd9212",
       "rows": [
        [
         "0",
         "33.311474973",
         "35.73907418",
         "mainss"
        ],
        [
         "1",
         "33.311052235",
         "35.738386736",
         "mainss"
        ],
        [
         "2",
         "33.309585233",
         "35.736827312",
         "mainss"
        ],
        [
         "3",
         "33.308450523",
         "35.735637278",
         "mainss"
        ],
        [
         "4",
         "33.306771682",
         "35.733866651",
         "mainss"
        ]
       ],
       "shape": {
        "columns": 3,
        "rows": 5
       }
      },
      "text/html": [
       "<div>\n",
       "<style scoped>\n",
       "    .dataframe tbody tr th:only-of-type {\n",
       "        vertical-align: middle;\n",
       "    }\n",
       "\n",
       "    .dataframe tbody tr th {\n",
       "        vertical-align: top;\n",
       "    }\n",
       "\n",
       "    .dataframe thead th {\n",
       "        text-align: right;\n",
       "    }\n",
       "</style>\n",
       "<table border=\"1\" class=\"dataframe\">\n",
       "  <thead>\n",
       "    <tr style=\"text-align: right;\">\n",
       "      <th></th>\n",
       "      <th>latitude</th>\n",
       "      <th>longitude</th>\n",
       "      <th>type</th>\n",
       "    </tr>\n",
       "  </thead>\n",
       "  <tbody>\n",
       "    <tr>\n",
       "      <th>0</th>\n",
       "      <td>33.311475</td>\n",
       "      <td>35.739074</td>\n",
       "      <td>mainss</td>\n",
       "    </tr>\n",
       "    <tr>\n",
       "      <th>1</th>\n",
       "      <td>33.311052</td>\n",
       "      <td>35.738387</td>\n",
       "      <td>mainss</td>\n",
       "    </tr>\n",
       "    <tr>\n",
       "      <th>2</th>\n",
       "      <td>33.309585</td>\n",
       "      <td>35.736827</td>\n",
       "      <td>mainss</td>\n",
       "    </tr>\n",
       "    <tr>\n",
       "      <th>3</th>\n",
       "      <td>33.308451</td>\n",
       "      <td>35.735637</td>\n",
       "      <td>mainss</td>\n",
       "    </tr>\n",
       "    <tr>\n",
       "      <th>4</th>\n",
       "      <td>33.306772</td>\n",
       "      <td>35.733867</td>\n",
       "      <td>mainss</td>\n",
       "    </tr>\n",
       "  </tbody>\n",
       "</table>\n",
       "</div>"
      ],
      "text/plain": [
       "    latitude  longitude    type\n",
       "0  33.311475  35.739074  mainss\n",
       "1  33.311052  35.738387  mainss\n",
       "2  33.309585  35.736827  mainss\n",
       "3  33.308451  35.735637  mainss\n",
       "4  33.306772  35.733867  mainss"
      ]
     },
     "execution_count": 5,
     "metadata": {},
     "output_type": "execute_result"
    }
   ],
   "source": [
    "# Load the fault line data from file\n",
    "fault_lines_df = pd.DataFrame()\n",
    "\n",
    "with open('fault_lines_raw.txt', 'r') as file:\n",
    "    content = file.read()\n",
    "    \n",
    "    # Split content by semicolon or newline to get each fault type definition\n",
    "    fault_definitions = [line.strip() for line in content.split(';')]\n",
    "    \n",
    "    # Process each fault definition\n",
    "    for definition in fault_definitions:\n",
    "        if '=' in definition:\n",
    "            fault_name, fault_data = definition.split('=')\n",
    "            fault_name = fault_name.strip()\n",
    "            try:\n",
    "                # Safely evaluate the string representation of lists\n",
    "                fault_coords = eval(fault_data.strip())\n",
    "                \n",
    "                # Convert to DataFrame with the fault type name\n",
    "                fault_type = fault_name.lower()  # Convert to lowercase for consistency\n",
    "                fault_df = convert_fault_lines_to_df(fault_coords, fault_type)\n",
    "                \n",
    "                # Append to main DataFrame\n",
    "                fault_lines_df = pd.concat([fault_lines_df, fault_df], ignore_index=True)\n",
    "            except:\n",
    "                print(f\"Could not process fault type: {fault_name}\")\n",
    "\n",
    "# Display first few rows\n",
    "fault_lines_df.head()"
   ]
  },
  {
   "cell_type": "code",
   "execution_count": 9,
   "id": "785ded34",
   "metadata": {},
   "outputs": [
    {
     "data": {
      "application/vnd.microsoft.datawrangler.viewer.v0+json": {
       "columns": [
        {
         "name": "index",
         "rawType": "int64",
         "type": "integer"
        },
        {
         "name": "index",
         "rawType": "int64",
         "type": "integer"
        },
        {
         "name": "latitude",
         "rawType": "float64",
         "type": "float"
        },
        {
         "name": "longitude",
         "rawType": "float64",
         "type": "float"
        },
        {
         "name": "secondary_type",
         "rawType": "object",
         "type": "string"
        },
        {
         "name": "main_type",
         "rawType": "object",
         "type": "string"
        }
       ],
       "ref": "2764b8e5-15b8-4933-b500-4ae30406bb00",
       "rows": [
        [
         "0",
         "0",
         "33.311474973",
         "35.73907418",
         "ss",
         "main"
        ],
        [
         "1",
         "1",
         "33.311052235",
         "35.738386736",
         "ss",
         "main"
        ],
        [
         "2",
         "2",
         "33.309585233",
         "35.736827312",
         "ss",
         "main"
        ],
        [
         "3",
         "3",
         "33.308450523",
         "35.735637278",
         "ss",
         "main"
        ],
        [
         "4",
         "4",
         "33.306771682",
         "35.733866651",
         "ss",
         "main"
        ]
       ],
       "shape": {
        "columns": 5,
        "rows": 5
       }
      },
      "text/html": [
       "<div>\n",
       "<style scoped>\n",
       "    .dataframe tbody tr th:only-of-type {\n",
       "        vertical-align: middle;\n",
       "    }\n",
       "\n",
       "    .dataframe tbody tr th {\n",
       "        vertical-align: top;\n",
       "    }\n",
       "\n",
       "    .dataframe thead th {\n",
       "        text-align: right;\n",
       "    }\n",
       "</style>\n",
       "<table border=\"1\" class=\"dataframe\">\n",
       "  <thead>\n",
       "    <tr style=\"text-align: right;\">\n",
       "      <th></th>\n",
       "      <th>index</th>\n",
       "      <th>latitude</th>\n",
       "      <th>longitude</th>\n",
       "      <th>secondary_type</th>\n",
       "      <th>main_type</th>\n",
       "    </tr>\n",
       "  </thead>\n",
       "  <tbody>\n",
       "    <tr>\n",
       "      <th>0</th>\n",
       "      <td>0</td>\n",
       "      <td>33.311475</td>\n",
       "      <td>35.739074</td>\n",
       "      <td>ss</td>\n",
       "      <td>main</td>\n",
       "    </tr>\n",
       "    <tr>\n",
       "      <th>1</th>\n",
       "      <td>1</td>\n",
       "      <td>33.311052</td>\n",
       "      <td>35.738387</td>\n",
       "      <td>ss</td>\n",
       "      <td>main</td>\n",
       "    </tr>\n",
       "    <tr>\n",
       "      <th>2</th>\n",
       "      <td>2</td>\n",
       "      <td>33.309585</td>\n",
       "      <td>35.736827</td>\n",
       "      <td>ss</td>\n",
       "      <td>main</td>\n",
       "    </tr>\n",
       "    <tr>\n",
       "      <th>3</th>\n",
       "      <td>3</td>\n",
       "      <td>33.308451</td>\n",
       "      <td>35.735637</td>\n",
       "      <td>ss</td>\n",
       "      <td>main</td>\n",
       "    </tr>\n",
       "    <tr>\n",
       "      <th>4</th>\n",
       "      <td>4</td>\n",
       "      <td>33.306772</td>\n",
       "      <td>35.733867</td>\n",
       "      <td>ss</td>\n",
       "      <td>main</td>\n",
       "    </tr>\n",
       "  </tbody>\n",
       "</table>\n",
       "</div>"
      ],
      "text/plain": [
       "   index   latitude  longitude secondary_type main_type\n",
       "0      0  33.311475  35.739074             ss      main\n",
       "1      1  33.311052  35.738387             ss      main\n",
       "2      2  33.309585  35.736827             ss      main\n",
       "3      3  33.308451  35.735637             ss      main\n",
       "4      4  33.306772  35.733867             ss      main"
      ]
     },
     "execution_count": 9,
     "metadata": {},
     "output_type": "execute_result"
    }
   ],
   "source": [
    "# Clean the data a bit\n",
    "def clean_data(df):\n",
    "    # Create a proper index\n",
    "    df = df.reset_index()\n",
    "    # Extract secondary type from 'type' column\n",
    "    df['secondary_type'] = df['type'].str.replace(r'^main|^quat_', '', regex=True)\n",
    "    # Extract the start of 'type' column\n",
    "    df['main_type'] = df['type'].str[:4]\n",
    "    # we don't need the original 'type' column anymore\n",
    "    df = df.drop(columns=['type'])\n",
    "    return df\n",
    "\n",
    "fault_lines_df_clean = clean_data(fault_lines_df.copy())\n",
    "fault_lines_df_clean.head()"
   ]
  },
  {
   "cell_type": "code",
   "execution_count": null,
   "id": "77342743",
   "metadata": {},
   "outputs": [
    {
     "data": {
      "application/vnd.microsoft.datawrangler.viewer.v0+json": {
       "columns": [
        {
         "name": "index",
         "rawType": "int64",
         "type": "integer"
        },
        {
         "name": "start_latitude",
         "rawType": "float64",
         "type": "float"
        },
        {
         "name": "start_longitude",
         "rawType": "float64",
         "type": "float"
        },
        {
         "name": "end_latitude",
         "rawType": "float64",
         "type": "float"
        },
        {
         "name": "end_longitude",
         "rawType": "float64",
         "type": "float"
        },
        {
         "name": "main_type",
         "rawType": "object",
         "type": "string"
        },
        {
         "name": "secondary_type",
         "rawType": "object",
         "type": "string"
        }
       ],
       "ref": "5bb1bf7f-a350-46fa-a1b4-9bfd3b83e902",
       "rows": [
        [
         "0",
         "33.311474973",
         "35.73907418",
         "33.311052235",
         "35.738386736",
         "main",
         "ss"
        ],
        [
         "1",
         "33.311052235",
         "35.738386736",
         "33.309585233",
         "35.736827312",
         "main",
         "ss"
        ],
        [
         "2",
         "33.309585233",
         "35.736827312",
         "33.308450523",
         "35.735637278",
         "main",
         "ss"
        ],
        [
         "3",
         "33.308450523",
         "35.735637278",
         "33.306771682",
         "35.733866651",
         "main",
         "ss"
        ],
        [
         "4",
         "33.306771682",
         "35.733866651",
         "33.30587376",
         "35.73320157",
         "main",
         "ss"
        ]
       ],
       "shape": {
        "columns": 6,
        "rows": 5
       }
      },
      "text/html": [
       "<div>\n",
       "<style scoped>\n",
       "    .dataframe tbody tr th:only-of-type {\n",
       "        vertical-align: middle;\n",
       "    }\n",
       "\n",
       "    .dataframe tbody tr th {\n",
       "        vertical-align: top;\n",
       "    }\n",
       "\n",
       "    .dataframe thead th {\n",
       "        text-align: right;\n",
       "    }\n",
       "</style>\n",
       "<table border=\"1\" class=\"dataframe\">\n",
       "  <thead>\n",
       "    <tr style=\"text-align: right;\">\n",
       "      <th></th>\n",
       "      <th>start_latitude</th>\n",
       "      <th>start_longitude</th>\n",
       "      <th>end_latitude</th>\n",
       "      <th>end_longitude</th>\n",
       "      <th>main_type</th>\n",
       "      <th>secondary_type</th>\n",
       "    </tr>\n",
       "  </thead>\n",
       "  <tbody>\n",
       "    <tr>\n",
       "      <th>0</th>\n",
       "      <td>33.311475</td>\n",
       "      <td>35.739074</td>\n",
       "      <td>33.311052</td>\n",
       "      <td>35.738387</td>\n",
       "      <td>main</td>\n",
       "      <td>ss</td>\n",
       "    </tr>\n",
       "    <tr>\n",
       "      <th>1</th>\n",
       "      <td>33.311052</td>\n",
       "      <td>35.738387</td>\n",
       "      <td>33.309585</td>\n",
       "      <td>35.736827</td>\n",
       "      <td>main</td>\n",
       "      <td>ss</td>\n",
       "    </tr>\n",
       "    <tr>\n",
       "      <th>2</th>\n",
       "      <td>33.309585</td>\n",
       "      <td>35.736827</td>\n",
       "      <td>33.308451</td>\n",
       "      <td>35.735637</td>\n",
       "      <td>main</td>\n",
       "      <td>ss</td>\n",
       "    </tr>\n",
       "    <tr>\n",
       "      <th>3</th>\n",
       "      <td>33.308451</td>\n",
       "      <td>35.735637</td>\n",
       "      <td>33.306772</td>\n",
       "      <td>35.733867</td>\n",
       "      <td>main</td>\n",
       "      <td>ss</td>\n",
       "    </tr>\n",
       "    <tr>\n",
       "      <th>4</th>\n",
       "      <td>33.306772</td>\n",
       "      <td>35.733867</td>\n",
       "      <td>33.305874</td>\n",
       "      <td>35.733202</td>\n",
       "      <td>main</td>\n",
       "      <td>ss</td>\n",
       "    </tr>\n",
       "  </tbody>\n",
       "</table>\n",
       "</div>"
      ],
      "text/plain": [
       "   start_latitude  start_longitude  end_latitude  end_longitude main_type  \\\n",
       "0       33.311475        35.739074     33.311052      35.738387      main   \n",
       "1       33.311052        35.738387     33.309585      35.736827      main   \n",
       "2       33.309585        35.736827     33.308451      35.735637      main   \n",
       "3       33.308451        35.735637     33.306772      35.733867      main   \n",
       "4       33.306772        35.733867     33.305874      35.733202      main   \n",
       "\n",
       "  secondary_type  \n",
       "0             ss  \n",
       "1             ss  \n",
       "2             ss  \n",
       "3             ss  \n",
       "4             ss  "
      ]
     },
     "execution_count": 19,
     "metadata": {},
     "output_type": "execute_result"
    }
   ],
   "source": [
    "def create_line_segments(df):\n",
    "    \"\"\"Convert points to line segments with start and end coordinates\"\"\"\n",
    "    # Create empty lists for the new columns\n",
    "    start_lat = []\n",
    "    start_long = []\n",
    "    end_lat = []\n",
    "    end_long = []\n",
    "    main_types = []\n",
    "    secondary_types = []\n",
    "    \n",
    "    # Get unique combinations of main_type and secondary_type\n",
    "    unique_types = df[['main_type', 'secondary_type']].drop_duplicates()\n",
    "    \n",
    "    #print(f\"Number of distinct fault type groups: {len(unique_types)}\")\n",
    "    \n",
    "    # Process each fault type combination\n",
    "    for _, (main_type, secondary_type) in unique_types.iterrows():\n",
    "        # Get points for this fault type\n",
    "        mask = (df['main_type'] == main_type) & (df['secondary_type'] == secondary_type)\n",
    "        group = df[mask].copy().reset_index(drop=True)\n",
    "        \n",
    "        # Get the number of points in this group\n",
    "        n_points = len(group)\n",
    "        #print(f\"Processing {main_type}_{secondary_type}: {n_points} points\")\n",
    "        \n",
    "        # Create line segments from consecutive points\n",
    "        for i in range(0, n_points - 1):\n",
    "            # Create one segment between each pair of consecutive points\n",
    "            start_lat.append(group.iloc[i]['latitude'])\n",
    "            start_long.append(group.iloc[i]['longitude'])\n",
    "            end_lat.append(group.iloc[i + 1]['latitude'])\n",
    "            end_long.append(group.iloc[i + 1]['longitude'])\n",
    "            main_types.append(main_type)\n",
    "            secondary_types.append(secondary_type)\n",
    "    \n",
    "    # Create new DataFrame with line segments\n",
    "    segments_df = pd.DataFrame({\n",
    "        'start_latitude': start_lat,\n",
    "        'start_longitude': start_long,\n",
    "        'end_latitude': end_lat,\n",
    "        'end_longitude': end_long,\n",
    "        'main_type': main_types,\n",
    "        'secondary_type': secondary_types\n",
    "    })\n",
    "    \n",
    "    #print(f\"\\nOriginal points: {len(df)}\")\n",
    "    #print(f\"Created segments: {len(segments_df)}\")\n",
    "    #print(f\"Expected segments: {len(df) - len(unique_types)}\")  # Each group should have n-1 segments for n points\n",
    "\n",
    "    return segments_df\n",
    "\n",
    "# Convert the cleaned point data to line segments\n",
    "fault_lines_segments = create_line_segments(fault_lines_df_clean)\n",
    "\n",
    "# Display first few rows to verify the structure\n",
    "fault_lines_segments = fault_lines_segments.reset_index()\n",
    "fault_lines_segments.head()"
   ]
  },
  {
   "cell_type": "code",
   "execution_count": 18,
   "id": "a013bb69",
   "metadata": {},
   "outputs": [],
   "source": [
    "#looks OK! let's save it to a CSV file for Tableau\n",
    "fault_lines_segments.to_csv(\"D:\\\\Projects\\\\Tableau\\\\My Creations\\\\Israel's Earthquakes\\\\fault_lines_cleaned.csv\", index=False)"
   ]
  }
 ],
 "metadata": {
  "kernelspec": {
   "display_name": ".venv",
   "language": "python",
   "name": "python3"
  },
  "language_info": {
   "codemirror_mode": {
    "name": "ipython",
    "version": 3
   },
   "file_extension": ".py",
   "mimetype": "text/x-python",
   "name": "python",
   "nbconvert_exporter": "python",
   "pygments_lexer": "ipython3",
   "version": "3.13.4"
  }
 },
 "nbformat": 4,
 "nbformat_minor": 5
}
