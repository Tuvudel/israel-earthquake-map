{
 "cells": [
  {
   "cell_type": "code",
   "execution_count": null,
   "id": "d907739f",
   "metadata": {},
   "outputs": [
    {
     "name": "stdout",
     "output_type": "stream",
     "text": [
      "Requirement already satisfied: pandas in d:\\projects\\tableau\\my creations\\israel's earthquakes\\.venv\\lib\\site-packages (2.3.1)\n",
      "Requirement already satisfied: numpy>=1.26.0 in d:\\projects\\tableau\\my creations\\israel's earthquakes\\.venv\\lib\\site-packages (from pandas) (2.3.2)\n",
      "Requirement already satisfied: python-dateutil>=2.8.2 in d:\\projects\\tableau\\my creations\\israel's earthquakes\\.venv\\lib\\site-packages (from pandas) (2.9.0.post0)\n",
      "Requirement already satisfied: pytz>=2020.1 in d:\\projects\\tableau\\my creations\\israel's earthquakes\\.venv\\lib\\site-packages (from pandas) (2025.2)\n",
      "Requirement already satisfied: tzdata>=2022.7 in d:\\projects\\tableau\\my creations\\israel's earthquakes\\.venv\\lib\\site-packages (from pandas) (2025.2)\n",
      "Requirement already satisfied: six>=1.5 in d:\\projects\\tableau\\my creations\\israel's earthquakes\\.venv\\lib\\site-packages (from python-dateutil>=2.8.2->pandas) (1.17.0)\n",
      "Note: you may need to restart the kernel to use updated packages.\n"
     ]
    }
   ],
   "source": [
    "pip install pandas geopandas"
   ]
  },
  {
   "cell_type": "code",
   "execution_count": 2,
   "id": "7cc2baa0",
   "metadata": {},
   "outputs": [],
   "source": [
    "# Import the necessary libraries\n",
    "import pandas as pd\n",
    "import geopandas as gpd\n",
    "import os"
   ]
  },
  {
   "cell_type": "code",
   "execution_count": 3,
   "id": "0ff7530c",
   "metadata": {},
   "outputs": [],
   "source": [
    "def load_and_filter_fault_data():\n",
    "    \"\"\"\n",
    "    Load fault data from GeoJSON and filter for EMME catalog entries.\n",
    "    \n",
    "    Returns:\n",
    "        gpd.GeoDataFrame: Filtered fault data containing only EMME catalog entries\n",
    "    \"\"\"\n",
    "    \n",
    "    # Load the fault data\n",
    "    print(\"Loading fault data from gem_active_faults_harmonized.geojson...\")\n",
    "    fault_data_path = \"data/gem_active_faults_harmonized.geojson\"\n",
    "    \n",
    "    if not os.path.exists(fault_data_path):\n",
    "        raise FileNotFoundError(f\"Fault data file not found: {fault_data_path}\")\n",
    "    \n",
    "    # Read the GeoJSON file into a GeoDataFrame\n",
    "    faults_gdf = gpd.read_file(fault_data_path)\n",
    "    \n",
    "    print(f\"Total fault records loaded: {len(faults_gdf)}\")\n",
    "    print(f\"Available catalog names: {faults_gdf['catalog_name'].unique()}\")\n",
    "    \n",
    "    # Filter for EMME catalog entries only\n",
    "    print(\"\\nFiltering for EMME catalog entries...\")\n",
    "    emme_faults = faults_gdf[faults_gdf['catalog_name'] == 'EMME'].copy()\n",
    "    \n",
    "    print(f\"EMME fault records found: {len(emme_faults)}\")\n",
    "    \n",
    "    if len(emme_faults) == 0:\n",
    "        print(\"Warning: No EMME catalog entries found in the data!\")\n",
    "        return emme_faults\n",
    "    \n",
    "    # Display basic information about the filtered data\n",
    "    print(f\"\\nEMME Faults Summary:\")\n",
    "    print(f\"- Number of fault segments: {len(emme_faults)}\")\n",
    "    print(f\"- Columns: {list(emme_faults.columns)}\")\n",
    "    \n",
    "    # Show first few records\n",
    "    print(f\"\\nFirst 3 EMME fault records:\")\n",
    "    print(emme_faults.head(3))\n",
    "    \n",
    "    return emme_faults"
   ]
  },
  {
   "cell_type": "code",
   "execution_count": 4,
   "id": "34d872b7",
   "metadata": {},
   "outputs": [],
   "source": [
    "def save_emme_faults(emme_faults_gdf, output_filename=\"EMME_faults.geojson\"):\n",
    "    \"\"\"\n",
    "    Save the filtered EMME fault data to a GeoJSON file.\n",
    "    \n",
    "    Args:\n",
    "        emme_faults_gdf (gpd.GeoDataFrame): Filtered EMME fault data\n",
    "        output_filename (str): Output filename for the GeoJSON file\n",
    "    \"\"\"\n",
    "    \n",
    "    if len(emme_faults_gdf) == 0:\n",
    "        print(\"No EMME fault data to save.\")\n",
    "        return\n",
    "    \n",
    "    print(f\"\\nSaving EMME fault data to {output_filename}...\")\n",
    "    emme_faults_gdf.to_file(output_filename, driver='GeoJSON')\n",
    "    \n",
    "    # Verify the file was created\n",
    "    if os.path.exists(output_filename):\n",
    "        file_size = os.path.getsize(output_filename)\n",
    "        print(f\"✓ Successfully saved {len(emme_faults_gdf)} fault segments to {output_filename}\")\n",
    "        print(f\"  File size: {file_size:,} bytes\")\n",
    "    else:\n",
    "        print(f\"✗ Error: Failed to create {output_filename}\")"
   ]
  },
  {
   "cell_type": "code",
   "execution_count": 5,
   "id": "ffb54a5a",
   "metadata": {},
   "outputs": [],
   "source": [
    "def main():\n",
    "    \"\"\"Main function to process fault data.\"\"\"\n",
    "    \n",
    "    try:\n",
    "        # Load and filter fault data\n",
    "        emme_faults = load_and_filter_fault_data()\n",
    "        \n",
    "        # Save filtered data\n",
    "        save_emme_faults(emme_faults)\n",
    "        \n",
    "        print(\"\\n\" + \"=\"*50)\n",
    "        print(\"Fault data processing completed successfully!\")\n",
    "        print(\"=\"*50)\n",
    "        \n",
    "    except Exception as e:\n",
    "        print(f\"Error processing fault data: {str(e)}\")\n",
    "        raise"
   ]
  },
  {
   "cell_type": "code",
   "execution_count": 6,
   "id": "98251209",
   "metadata": {},
   "outputs": [
    {
     "name": "stdout",
     "output_type": "stream",
     "text": [
      "Loading fault data from gem_active_faults_harmonized.geojson...\n",
      "Total fault records loaded: 13696\n",
      "Available catalog names: ['UCERF3' 'AUS_FSD' 'Active Tectonics of the Andes'\n",
      " 'Macgregor_AfricaFaults' 'EMME' 'GEM Faulted Earth' 'SHARE'\n",
      " 'HimaTibetMap' 'philippines' 'SARA' 'USGS Hazfaults 2014' 'Shyu Taiwan'\n",
      " 'Villegas Mexico' 'Bird 2003' 'Litchfield_NZ_2013' 'EOS_SE_Asia'\n",
      " 'GEM_NE_Asia' 'GEM_N_Africa' 'GEM_Central_Am_Carib' 'SMSSD']\n",
      "\n",
      "Filtering for EMME catalog entries...\n",
      "EMME fault records found: 778\n",
      "\n",
      "EMME Faults Summary:\n",
      "- Number of fault segments: 778\n",
      "- Columns: ['average_dip', 'average_rake', 'catalog_id', 'catalog_name', 'dip_dir', 'lower_seis_depth', 'name', 'net_slip_rate', 'slip_type', 'upper_seis_depth', 'downthrown_side_id', 'reference', 'epistemic_quality', 'accuracy', 'activity_confidence', 'fs_name', 'last_movement', 'downthrown_side_dir', 'vert_sep_rate', 'strike_slip_rate', 'exposure_quality', 'shortening_rate', 'notes', 'geometry']\n",
      "\n",
      "First 3 EMME fault records:\n",
      "           average_dip        average_rake catalog_id catalog_name dip_dir  \\\n",
      "1586  (60.0,50.0,70.0)  (-85,-100.0,-70.0)    ME_AF37         EMME    None   \n",
      "1587  (70.0,60.0,80.0)   (-45,-60.0,-30.0)    ME_AS38         EMME    None   \n",
      "1588  (80.0,70.0,90.0)  (-85,-100.0,-70.0)    ME_AS39         EMME    None   \n",
      "\n",
      "     lower_seis_depth  name  net_slip_rate         slip_type upper_seis_depth  \\\n",
      "1586         (26.0,,)  None  (3.0,2.0,4.0)            Normal          (0.0,,)   \n",
      "1587         (25.0,,)  None  (3.0,2.0,4.0)  Sinistral-Normal          (0.0,,)   \n",
      "1588         (30.0,,)  None  (1.5,1.0,2.0)            Normal          (5.0,,)   \n",
      "\n",
      "      ... activity_confidence fs_name last_movement downthrown_side_dir  \\\n",
      "1586  ...                None    None          None                None   \n",
      "1587  ...                None    None          None                None   \n",
      "1588  ...                None    None          None                None   \n",
      "\n",
      "     vert_sep_rate strike_slip_rate exposure_quality shortening_rate notes  \\\n",
      "1586          None             None             None            None  None   \n",
      "1587          None             None             None            None  None   \n",
      "1588          None             None             None            None  None   \n",
      "\n",
      "                                               geometry  \n",
      "1586  LINESTRING (71.35829 38.26855, 71.12098 38.007...  \n",
      "1587  LINESTRING (70.99623 38.90182, 70.28634 38.318...  \n",
      "1588  LINESTRING (71.80891 35.91219, 71.78919 35.849...  \n",
      "\n",
      "[3 rows x 24 columns]\n",
      "\n",
      "Saving EMME fault data to EMME_faults.geojson...\n",
      "✓ Successfully saved 778 fault segments to EMME_faults.geojson\n",
      "  File size: 762,099 bytes\n",
      "\n",
      "==================================================\n",
      "Fault data processing completed successfully!\n",
      "==================================================\n"
     ]
    }
   ],
   "source": [
    "main()"
   ]
  }
 ],
 "metadata": {
  "kernelspec": {
   "display_name": ".venv",
   "language": "python",
   "name": "python3"
  },
  "language_info": {
   "codemirror_mode": {
    "name": "ipython",
    "version": 3
   },
   "file_extension": ".py",
   "mimetype": "text/x-python",
   "name": "python",
   "nbconvert_exporter": "python",
   "pygments_lexer": "ipython3",
   "version": "3.13.4"
  }
 },
 "nbformat": 4,
 "nbformat_minor": 5
}
