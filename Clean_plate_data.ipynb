{
 "cells": [
  {
   "cell_type": "code",
   "execution_count": null,
   "id": "d907739f",
   "metadata": {},
   "outputs": [
    {
     "name": "stdout",
     "output_type": "stream",
     "text": [
      "Requirement already satisfied: pandas in d:\\projects\\tableau\\my creations\\israel's earthquakes\\.venv\\lib\\site-packages (2.3.1)\n",
      "Requirement already satisfied: numpy>=1.26.0 in d:\\projects\\tableau\\my creations\\israel's earthquakes\\.venv\\lib\\site-packages (from pandas) (2.3.2)\n",
      "Requirement already satisfied: python-dateutil>=2.8.2 in d:\\projects\\tableau\\my creations\\israel's earthquakes\\.venv\\lib\\site-packages (from pandas) (2.9.0.post0)\n",
      "Requirement already satisfied: pytz>=2020.1 in d:\\projects\\tableau\\my creations\\israel's earthquakes\\.venv\\lib\\site-packages (from pandas) (2025.2)\n",
      "Requirement already satisfied: tzdata>=2022.7 in d:\\projects\\tableau\\my creations\\israel's earthquakes\\.venv\\lib\\site-packages (from pandas) (2025.2)\n",
      "Requirement already satisfied: six>=1.5 in d:\\projects\\tableau\\my creations\\israel's earthquakes\\.venv\\lib\\site-packages (from python-dateutil>=2.8.2->pandas) (1.17.0)\n",
      "Note: you may need to restart the kernel to use updated packages.\n"
     ]
    }
   ],
   "source": [
    "pip install pandas geopandas"
   ]
  },
  {
   "cell_type": "code",
   "execution_count": 1,
   "id": "7cc2baa0",
   "metadata": {},
   "outputs": [],
   "source": [
    "# Import the necessary libraries\n",
    "import pandas as pd\n",
    "import geopandas as gpd\n",
    "import os"
   ]
  },
  {
   "cell_type": "code",
   "execution_count": null,
   "id": "0ff7530c",
   "metadata": {},
   "outputs": [],
   "source": [
    "def load_and_filter_plate_data():\n",
    "    \"\"\"\n",
    "    Load plate data from GeoJSON and filter.\n",
    "    \n",
    "    Returns:\n",
    "        gpd.GeoDataFrame: Filtered plate data\n",
    "    \"\"\"\n",
    "    \n",
    "    # Load the plate data\n",
    "    plate_data_path = \"data/RAW/transform.geojson\"\n",
    "    \n",
    "    if not os.path.exists(plate_data_path):\n",
    "        raise FileNotFoundError(f\"Plate data file not found: {plate_data_path}\")\n",
    "    \n",
    "    # Read the GeoJSON file into a GeoDataFrame\n",
    "    plate_gdf = gpd.read_file(plate_data_path)\n",
    "\n",
    "    # Filter for EMME catalog entries only\n",
    "    emme_plates = plate_gdf[plate_gdf['geogdesc'] == 'TRANSFORM FAULT BETWEEN ARABIA AND LEVANT (SINAI'].copy()\n",
    "\n",
    "    # Show first few records\n",
    "    print(f\"\\nFirst 3 plate records:\")\n",
    "    print(emme_plates.head(3))\n",
    "    \n",
    "    return emme_plates"
   ]
  },
  {
   "cell_type": "code",
   "execution_count": null,
   "id": "34d872b7",
   "metadata": {},
   "outputs": [],
   "source": [
    "def save_emme_plates(emme_plates_gdf, output_filename=\"transform.geojson\"):\n",
    "    \"\"\"\n",
    "    Save the filtered plate data to a GeoJSON file.\n",
    "    \n",
    "    Args:\n",
    "        x_plates_gdf (gpd.GeoDataFrame): Filtered plate data\n",
    "        output_filename (str): Output filename for the GeoJSON file\n",
    "    \"\"\"\n",
    "    \n",
    "    if len(emme_plates_gdf) == 0:\n",
    "        print(\"No EMME plate data to save.\")\n",
    "        return\n",
    "    \n",
    "    print(f\"\\nSaving plate data to {output_filename}...\")\n",
    "    emme_plates_gdf.to_file(output_filename, driver='GeoJSON')\n",
    "    \n",
    "    # Verify the file was created\n",
    "    if os.path.exists(output_filename):\n",
    "        file_size = os.path.getsize(output_filename)\n",
    "        print(f\"✓ Successfully saved {len(emme_plates_gdf)} plate segments to {output_filename}\")\n",
    "        print(f\"  File size: {file_size:,} bytes\")\n",
    "    else:\n",
    "        print(f\"✗ Error: Failed to create {output_filename}\")"
   ]
  },
  {
   "cell_type": "code",
   "execution_count": 6,
   "id": "ffb54a5a",
   "metadata": {},
   "outputs": [],
   "source": [
    "def main():\n",
    "    \"\"\"Main function to process plate data.\"\"\"\n",
    "    \n",
    "    try:\n",
    "        # Load and filter plate data\n",
    "        emme_plates = load_and_filter_plate_data()\n",
    "        \n",
    "        # Save filtered data\n",
    "        save_emme_plates(emme_plates)\n",
    "        \n",
    "        print(\"\\n\" + \"=\"*50)\n",
    "        print(\"plate data processing completed successfully!\")\n",
    "        print(\"=\"*50)\n",
    "        \n",
    "    except Exception as e:\n",
    "        print(f\"Error processing plate data: {str(e)}\")\n",
    "        raise"
   ]
  },
  {
   "cell_type": "code",
   "execution_count": 9,
   "id": "98251209",
   "metadata": {},
   "outputs": [
    {
     "name": "stdout",
     "output_type": "stream",
     "text": [
      "\n",
      "First 3 plate records:\n",
      "    strnum  platecode datatype  dtnum  refnum  appearance  disappeara  color  \\\n",
      "34      36        503       RI      1    5304         0.1      -999.0      5   \n",
      "\n",
      "                       geogdesc  \\\n",
      "34  SPREADING CENTER IN RED SEA   \n",
      "\n",
      "                                             geometry  \n",
      "34  LINESTRING (36.87 23.54, 36.0582 24.9612, 35.8...  \n",
      "\n",
      "Saving plate data to ridge.geojson...\n",
      "✓ Successfully saved 1 plate segments to ridge.geojson\n",
      "  File size: 661 bytes\n",
      "\n",
      "==================================================\n",
      "plate data processing completed successfully!\n",
      "==================================================\n"
     ]
    }
   ],
   "source": [
    "main()"
   ]
  }
 ],
 "metadata": {
  "kernelspec": {
   "display_name": ".venv",
   "language": "python",
   "name": "python3"
  },
  "language_info": {
   "codemirror_mode": {
    "name": "ipython",
    "version": 3
   },
   "file_extension": ".py",
   "mimetype": "text/x-python",
   "name": "python",
   "nbconvert_exporter": "python",
   "pygments_lexer": "ipython3",
   "version": "3.13.4"
  }
 },
 "nbformat": 4,
 "nbformat_minor": 5
}
