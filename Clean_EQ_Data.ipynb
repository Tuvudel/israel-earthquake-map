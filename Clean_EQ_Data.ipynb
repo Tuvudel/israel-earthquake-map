{
 "cells": [
  {
   "cell_type": "code",
   "execution_count": 62,
   "id": "d907739f",
   "metadata": {},
   "outputs": [
    {
     "name": "stdout",
     "output_type": "stream",
     "text": [
      "Requirement already satisfied: pandas in d:\\projects\\tableau\\my creations\\israel's earthquakes\\.venv\\lib\\site-packages (2.3.1)\n",
      "Requirement already satisfied: reverse_geocoder in d:\\projects\\tableau\\my creations\\israel's earthquakes\\.venv\\lib\\site-packages (1.5.1)\n",
      "Collecting pycountry\n",
      "  Downloading pycountry-24.6.1-py3-none-any.whl.metadata (12 kB)\n",
      "Requirement already satisfied: numpy>=1.26.0 in d:\\projects\\tableau\\my creations\\israel's earthquakes\\.venv\\lib\\site-packages (from pandas) (2.3.2)\n",
      "Requirement already satisfied: python-dateutil>=2.8.2 in d:\\projects\\tableau\\my creations\\israel's earthquakes\\.venv\\lib\\site-packages (from pandas) (2.9.0.post0)\n",
      "Requirement already satisfied: pytz>=2020.1 in d:\\projects\\tableau\\my creations\\israel's earthquakes\\.venv\\lib\\site-packages (from pandas) (2025.2)\n",
      "Requirement already satisfied: tzdata>=2022.7 in d:\\projects\\tableau\\my creations\\israel's earthquakes\\.venv\\lib\\site-packages (from pandas) (2025.2)\n",
      "Requirement already satisfied: scipy>=0.17.1 in d:\\projects\\tableau\\my creations\\israel's earthquakes\\.venv\\lib\\site-packages (from reverse_geocoder) (1.16.1)\n",
      "Requirement already satisfied: six>=1.5 in d:\\projects\\tableau\\my creations\\israel's earthquakes\\.venv\\lib\\site-packages (from python-dateutil>=2.8.2->pandas) (1.17.0)\n",
      "Downloading pycountry-24.6.1-py3-none-any.whl (6.3 MB)\n",
      "   ---------------------------------------- 0.0/6.3 MB ? eta -:--:--\n",
      "   --- ------------------------------------ 0.5/6.3 MB 4.1 MB/s eta 0:00:02\n",
      "   ------------------------------- -------- 5.0/6.3 MB 15.6 MB/s eta 0:00:01\n",
      "   ---------------------------------------- 6.3/6.3 MB 15.9 MB/s eta 0:00:00\n",
      "Installing collected packages: pycountry\n",
      "Successfully installed pycountry-24.6.1\n",
      "Note: you may need to restart the kernel to use updated packages.\n"
     ]
    }
   ],
   "source": [
    "pip install pandas reverse_geocoder pycountry"
   ]
  },
  {
   "cell_type": "code",
   "execution_count": 49,
   "id": "7cc2baa0",
   "metadata": {},
   "outputs": [],
   "source": [
    "# Import the necessary libraries\n",
    "import pandas as pd\n",
    "import numpy as np\n",
    "# (https://github.com/thampiman/reverse-geocoder) to get the location names from latitude and longitude (faster then geopy, no hebrew names though...)\n",
    "import reverse_geocoder as rg\n",
    "# to get the full country name from country code\n",
    "import pycountry\n"
   ]
  },
  {
   "cell_type": "code",
   "execution_count": 50,
   "id": "a37d135b",
   "metadata": {},
   "outputs": [
    {
     "data": {
      "application/vnd.microsoft.datawrangler.viewer.v0+json": {
       "columns": [
        {
         "name": "index",
         "rawType": "int64",
         "type": "integer"
        },
        {
         "name": "epiid",
         "rawType": "object",
         "type": "string"
        },
        {
         "name": "DateTime",
         "rawType": "object",
         "type": "string"
        },
        {
         "name": "Mag",
         "rawType": "float64",
         "type": "float"
        },
        {
         "name": "Lat",
         "rawType": "float64",
         "type": "float"
        },
        {
         "name": "Long",
         "rawType": "float64",
         "type": "float"
        },
        {
         "name": "Depth(Km)",
         "rawType": "float64",
         "type": "float"
        },
        {
         "name": "Region",
         "rawType": "object",
         "type": "unknown"
        },
        {
         "name": "Type",
         "rawType": "object",
         "type": "string"
        }
       ],
       "ref": "be86ad72-ff93-4a24-b21d-b5a9a1414a20",
       "rows": [
        [
         "0",
         "'202508010821'",
         "2025-08-01T08:21:53.912",
         "2.9",
         "27.8478",
         "34.3057",
         "67.903645833333",
         "Arnona-Dakar-Deep",
         "EQ"
        ],
        [
         "1",
         "'202507280231'",
         "2025-07-28T02:31:46.262",
         "4.0",
         "34.7848",
         "37.7575",
         "30.76171875",
         "Palmira",
         "EQ"
        ],
        [
         "2",
         "'202507270723'",
         "2025-07-27T07:23:11.476",
         "2.9",
         "34.871",
         "33.632",
         "18.684895833333",
         "Cyprus",
         "EQ"
        ],
        [
         "3",
         "'202507260912'",
         "2025-07-26T09:12:44.747",
         "3.2",
         "33.3385",
         "33.0876",
         "21.127563476562",
         null,
         "EQ"
        ],
        [
         "4",
         "'202507250331'",
         "2025-07-25T03:31:44.039",
         "3.6",
         "35.2748",
         "32.6186",
         "12.532552083333",
         null,
         "EQ"
        ]
       ],
       "shape": {
        "columns": 8,
        "rows": 5
       }
      },
      "text/html": [
       "<div>\n",
       "<style scoped>\n",
       "    .dataframe tbody tr th:only-of-type {\n",
       "        vertical-align: middle;\n",
       "    }\n",
       "\n",
       "    .dataframe tbody tr th {\n",
       "        vertical-align: top;\n",
       "    }\n",
       "\n",
       "    .dataframe thead th {\n",
       "        text-align: right;\n",
       "    }\n",
       "</style>\n",
       "<table border=\"1\" class=\"dataframe\">\n",
       "  <thead>\n",
       "    <tr style=\"text-align: right;\">\n",
       "      <th></th>\n",
       "      <th>epiid</th>\n",
       "      <th>DateTime</th>\n",
       "      <th>Mag</th>\n",
       "      <th>Lat</th>\n",
       "      <th>Long</th>\n",
       "      <th>Depth(Km)</th>\n",
       "      <th>Region</th>\n",
       "      <th>Type</th>\n",
       "    </tr>\n",
       "  </thead>\n",
       "  <tbody>\n",
       "    <tr>\n",
       "      <th>0</th>\n",
       "      <td>'202508010821'</td>\n",
       "      <td>2025-08-01T08:21:53.912</td>\n",
       "      <td>2.9</td>\n",
       "      <td>27.8478</td>\n",
       "      <td>34.3057</td>\n",
       "      <td>67.903646</td>\n",
       "      <td>Arnona-Dakar-Deep</td>\n",
       "      <td>EQ</td>\n",
       "    </tr>\n",
       "    <tr>\n",
       "      <th>1</th>\n",
       "      <td>'202507280231'</td>\n",
       "      <td>2025-07-28T02:31:46.262</td>\n",
       "      <td>4.0</td>\n",
       "      <td>34.7848</td>\n",
       "      <td>37.7575</td>\n",
       "      <td>30.761719</td>\n",
       "      <td>Palmira</td>\n",
       "      <td>EQ</td>\n",
       "    </tr>\n",
       "    <tr>\n",
       "      <th>2</th>\n",
       "      <td>'202507270723'</td>\n",
       "      <td>2025-07-27T07:23:11.476</td>\n",
       "      <td>2.9</td>\n",
       "      <td>34.8710</td>\n",
       "      <td>33.6320</td>\n",
       "      <td>18.684896</td>\n",
       "      <td>Cyprus</td>\n",
       "      <td>EQ</td>\n",
       "    </tr>\n",
       "    <tr>\n",
       "      <th>3</th>\n",
       "      <td>'202507260912'</td>\n",
       "      <td>2025-07-26T09:12:44.747</td>\n",
       "      <td>3.2</td>\n",
       "      <td>33.3385</td>\n",
       "      <td>33.0876</td>\n",
       "      <td>21.127563</td>\n",
       "      <td>NaN</td>\n",
       "      <td>EQ</td>\n",
       "    </tr>\n",
       "    <tr>\n",
       "      <th>4</th>\n",
       "      <td>'202507250331'</td>\n",
       "      <td>2025-07-25T03:31:44.039</td>\n",
       "      <td>3.6</td>\n",
       "      <td>35.2748</td>\n",
       "      <td>32.6186</td>\n",
       "      <td>12.532552</td>\n",
       "      <td>NaN</td>\n",
       "      <td>EQ</td>\n",
       "    </tr>\n",
       "  </tbody>\n",
       "</table>\n",
       "</div>"
      ],
      "text/plain": [
       "            epiid                 DateTime  Mag      Lat     Long  Depth(Km)  \\\n",
       "0  '202508010821'  2025-08-01T08:21:53.912  2.9  27.8478  34.3057  67.903646   \n",
       "1  '202507280231'  2025-07-28T02:31:46.262  4.0  34.7848  37.7575  30.761719   \n",
       "2  '202507270723'  2025-07-27T07:23:11.476  2.9  34.8710  33.6320  18.684896   \n",
       "3  '202507260912'  2025-07-26T09:12:44.747  3.2  33.3385  33.0876  21.127563   \n",
       "4  '202507250331'  2025-07-25T03:31:44.039  3.6  35.2748  32.6186  12.532552   \n",
       "\n",
       "              Region Type  \n",
       "0  Arnona-Dakar-Deep   EQ  \n",
       "1            Palmira   EQ  \n",
       "2             Cyprus   EQ  \n",
       "3                NaN   EQ  \n",
       "4                NaN   EQ  "
      ]
     },
     "execution_count": 50,
     "metadata": {},
     "output_type": "execute_result"
    }
   ],
   "source": [
    "# lets take a look at the data\n",
    "EQ_recent_history = pd.read_csv(\"D:\\\\Projects\\\\Tableau\\\\My Creations\\\\Israel's Earthquakes\\\\EQ_1981_2025-08-03.csv\")\n",
    "EQ_recent_history.head()"
   ]
  },
  {
   "cell_type": "code",
   "execution_count": 56,
   "id": "d8aea35b",
   "metadata": {},
   "outputs": [],
   "source": [
    "def clean_recent_EQ(df):\n",
    "    # Drop uneeded region column\n",
    "    df = df.drop(columns=['Region'])\n",
    "    \n",
    "    # Rename columns for clarity\n",
    "    df = df.rename(columns={\n",
    "        'DateTime': 'date-time',\n",
    "        'Mag': 'magnitude',\n",
    "        'Lat': 'latitude',\n",
    "        'Long': 'longitude',\n",
    "        'Depth(Km)': 'depth',\n",
    "        'Type': 'felt?'\n",
    "    })\n",
    "\n",
    "    # Strip leading and trailing whitespace in column: 'epiid'\n",
    "    df['epiid'] = df['epiid'].str.strip(\"'\")\n",
    "\n",
    "    # Clean up the 'felt?' column\n",
    "    df['felt?'] = df['felt?'].str.strip()\n",
    "    df['felt?'] = df['felt?'].map({'EQ': False, 'F': True})\n",
    "\n",
    "    # Format the 'date-time' field\n",
    "    df['date-time'] = df['date-time'].str.replace('T', ' ')\n",
    "    df['date-time'] = pd.to_datetime(df['date-time'])\n",
    "    df['date-time'] = df['date-time'].dt.strftime('%d/%m/%Y %H:%M:%S')\n",
    "\n",
    "    # Split 'date-time' into separate 'date' and 'time' columns\n",
    "    df['date'] = df['date-time'].str.split(' ').str[0]\n",
    "\n",
    "    # Reorder columns\n",
    "    df = df[[\n",
    "        \"epiid\", \"latitude\", \"longitude\", \"date\", \"date-time\", \n",
    "        \"magnitude\", \"depth\", \"felt?\"\n",
    "    ]]\n",
    "    \n",
    "    return df"
   ]
  },
  {
   "cell_type": "code",
   "execution_count": 52,
   "id": "95f55fb2",
   "metadata": {},
   "outputs": [],
   "source": [
    "# Create a function to georeverse geocode the coordinates in the dataframe\n",
    "def batch_reverse_geocode(df):\n",
    "    # Create list of coordinate tuples\n",
    "    coordinates = list(zip(df['latitude'], df['longitude']))\n",
    "    \n",
    "    # Pass the coordinate tuples to reverse geocoder to get results for all coordinates\n",
    "    results = rg.search(coordinates)\n",
    "    \n",
    "    # Extract required fields into separate lists (results is a list of dictionaries)\n",
    "    cities = [r['name'] for r in results]\n",
    "    areas = [r['admin1'] for r in results]\n",
    "    country_codes = [r['cc'] for r in results]\n",
    "\n",
    "    # Convert country codes to full names\n",
    "    def get_country_name(code):\n",
    "        try:\n",
    "            return pycountry.countries.get(alpha_2=code).name\n",
    "        except AttributeError:\n",
    "            return code  # Return original code if conversion fails\n",
    "    \n",
    "    countries = [get_country_name(code) for code in country_codes]\n",
    "    \n",
    "    # Add new columns to dataframe\n",
    "    df['city'] = cities\n",
    "    df['area'] = areas\n",
    "    df['country'] = countries\n",
    "\n",
    "    # Strip trailing backticks or single quotes from the city names \n",
    "    df['city'] = df['city'].str.lstrip(\"`'\")\n",
    "    # Remove ',' and text after it in the 'country' column\n",
    "    df['country'] = df['country'].str.split(',').str[0]\n",
    "\n",
    "    return df"
   ]
  },
  {
   "cell_type": "code",
   "execution_count": 57,
   "id": "9dcc4b7b",
   "metadata": {},
   "outputs": [
    {
     "data": {
      "application/vnd.microsoft.datawrangler.viewer.v0+json": {
       "columns": [
        {
         "name": "index",
         "rawType": "int64",
         "type": "integer"
        },
        {
         "name": "epiid",
         "rawType": "object",
         "type": "string"
        },
        {
         "name": "latitude",
         "rawType": "float64",
         "type": "float"
        },
        {
         "name": "longitude",
         "rawType": "float64",
         "type": "float"
        },
        {
         "name": "date",
         "rawType": "object",
         "type": "string"
        },
        {
         "name": "date-time",
         "rawType": "object",
         "type": "string"
        },
        {
         "name": "magnitude",
         "rawType": "float64",
         "type": "float"
        },
        {
         "name": "depth",
         "rawType": "float64",
         "type": "float"
        },
        {
         "name": "felt?",
         "rawType": "bool",
         "type": "boolean"
        },
        {
         "name": "city",
         "rawType": "object",
         "type": "string"
        },
        {
         "name": "area",
         "rawType": "object",
         "type": "string"
        },
        {
         "name": "country",
         "rawType": "object",
         "type": "string"
        }
       ],
       "ref": "0dbaec2d-a850-45ed-9b8b-22f8f40d3598",
       "rows": [
        [
         "0",
         "202508010821",
         "27.8478",
         "34.3057",
         "01/08/2025",
         "01/08/2025 08:21:53",
         "2.9",
         "67.903645833333",
         "False",
         "Sharm el-Sheikh",
         "South Sinai",
         "Egypt"
        ],
        [
         "1",
         "202507280231",
         "34.7848",
         "37.7575",
         "28/07/2025",
         "28/07/2025 02:31:46",
         "4.0",
         "30.76171875",
         "False",
         "Uqayribat",
         "Hama",
         "Syrian Arab Republic"
        ],
        [
         "2",
         "202507270723",
         "34.871",
         "33.632",
         "27/07/2025",
         "27/07/2025 07:23:11",
         "2.9",
         "18.684895833333",
         "False",
         "Meneou",
         "Larnaka",
         "Cyprus"
        ],
        [
         "3",
         "202507260912",
         "33.3385",
         "33.0876",
         "26/07/2025",
         "26/07/2025 09:12:44",
         "3.2",
         "21.127563476562",
         "False",
         "Kolossi",
         "Larnaka",
         "Cyprus"
        ],
        [
         "4",
         "202507250331",
         "35.2748",
         "32.6186",
         "25/07/2025",
         "25/07/2025 03:31:44",
         "3.6",
         "12.532552083333",
         "False",
         "Kato Pyrgos",
         "Lefkosia",
         "Cyprus"
        ]
       ],
       "shape": {
        "columns": 11,
        "rows": 5
       }
      },
      "text/html": [
       "<div>\n",
       "<style scoped>\n",
       "    .dataframe tbody tr th:only-of-type {\n",
       "        vertical-align: middle;\n",
       "    }\n",
       "\n",
       "    .dataframe tbody tr th {\n",
       "        vertical-align: top;\n",
       "    }\n",
       "\n",
       "    .dataframe thead th {\n",
       "        text-align: right;\n",
       "    }\n",
       "</style>\n",
       "<table border=\"1\" class=\"dataframe\">\n",
       "  <thead>\n",
       "    <tr style=\"text-align: right;\">\n",
       "      <th></th>\n",
       "      <th>epiid</th>\n",
       "      <th>latitude</th>\n",
       "      <th>longitude</th>\n",
       "      <th>date</th>\n",
       "      <th>date-time</th>\n",
       "      <th>magnitude</th>\n",
       "      <th>depth</th>\n",
       "      <th>felt?</th>\n",
       "      <th>city</th>\n",
       "      <th>area</th>\n",
       "      <th>country</th>\n",
       "    </tr>\n",
       "  </thead>\n",
       "  <tbody>\n",
       "    <tr>\n",
       "      <th>0</th>\n",
       "      <td>202508010821</td>\n",
       "      <td>27.8478</td>\n",
       "      <td>34.3057</td>\n",
       "      <td>01/08/2025</td>\n",
       "      <td>01/08/2025 08:21:53</td>\n",
       "      <td>2.9</td>\n",
       "      <td>67.903646</td>\n",
       "      <td>False</td>\n",
       "      <td>Sharm el-Sheikh</td>\n",
       "      <td>South Sinai</td>\n",
       "      <td>Egypt</td>\n",
       "    </tr>\n",
       "    <tr>\n",
       "      <th>1</th>\n",
       "      <td>202507280231</td>\n",
       "      <td>34.7848</td>\n",
       "      <td>37.7575</td>\n",
       "      <td>28/07/2025</td>\n",
       "      <td>28/07/2025 02:31:46</td>\n",
       "      <td>4.0</td>\n",
       "      <td>30.761719</td>\n",
       "      <td>False</td>\n",
       "      <td>Uqayribat</td>\n",
       "      <td>Hama</td>\n",
       "      <td>Syrian Arab Republic</td>\n",
       "    </tr>\n",
       "    <tr>\n",
       "      <th>2</th>\n",
       "      <td>202507270723</td>\n",
       "      <td>34.8710</td>\n",
       "      <td>33.6320</td>\n",
       "      <td>27/07/2025</td>\n",
       "      <td>27/07/2025 07:23:11</td>\n",
       "      <td>2.9</td>\n",
       "      <td>18.684896</td>\n",
       "      <td>False</td>\n",
       "      <td>Meneou</td>\n",
       "      <td>Larnaka</td>\n",
       "      <td>Cyprus</td>\n",
       "    </tr>\n",
       "    <tr>\n",
       "      <th>3</th>\n",
       "      <td>202507260912</td>\n",
       "      <td>33.3385</td>\n",
       "      <td>33.0876</td>\n",
       "      <td>26/07/2025</td>\n",
       "      <td>26/07/2025 09:12:44</td>\n",
       "      <td>3.2</td>\n",
       "      <td>21.127563</td>\n",
       "      <td>False</td>\n",
       "      <td>Kolossi</td>\n",
       "      <td>Larnaka</td>\n",
       "      <td>Cyprus</td>\n",
       "    </tr>\n",
       "    <tr>\n",
       "      <th>4</th>\n",
       "      <td>202507250331</td>\n",
       "      <td>35.2748</td>\n",
       "      <td>32.6186</td>\n",
       "      <td>25/07/2025</td>\n",
       "      <td>25/07/2025 03:31:44</td>\n",
       "      <td>3.6</td>\n",
       "      <td>12.532552</td>\n",
       "      <td>False</td>\n",
       "      <td>Kato Pyrgos</td>\n",
       "      <td>Lefkosia</td>\n",
       "      <td>Cyprus</td>\n",
       "    </tr>\n",
       "  </tbody>\n",
       "</table>\n",
       "</div>"
      ],
      "text/plain": [
       "          epiid  latitude  longitude        date            date-time  \\\n",
       "0  202508010821   27.8478    34.3057  01/08/2025  01/08/2025 08:21:53   \n",
       "1  202507280231   34.7848    37.7575  28/07/2025  28/07/2025 02:31:46   \n",
       "2  202507270723   34.8710    33.6320  27/07/2025  27/07/2025 07:23:11   \n",
       "3  202507260912   33.3385    33.0876  26/07/2025  26/07/2025 09:12:44   \n",
       "4  202507250331   35.2748    32.6186  25/07/2025  25/07/2025 03:31:44   \n",
       "\n",
       "   magnitude      depth  felt?             city         area  \\\n",
       "0        2.9  67.903646  False  Sharm el-Sheikh  South Sinai   \n",
       "1        4.0  30.761719  False        Uqayribat         Hama   \n",
       "2        2.9  18.684896  False           Meneou      Larnaka   \n",
       "3        3.2  21.127563  False          Kolossi      Larnaka   \n",
       "4        3.6  12.532552  False      Kato Pyrgos     Lefkosia   \n",
       "\n",
       "                country  \n",
       "0                 Egypt  \n",
       "1  Syrian Arab Republic  \n",
       "2                Cyprus  \n",
       "3                Cyprus  \n",
       "4                Cyprus  "
      ]
     },
     "execution_count": 57,
     "metadata": {},
     "output_type": "execute_result"
    }
   ],
   "source": [
    "# Clean & Apply the geocoding to our cleaned dataframe\n",
    "EQ_recent_history_clean =  clean_recent_EQ(EQ_recent_history.copy())\n",
    "EQ_recent_history_clean = batch_reverse_geocode(EQ_recent_history_clean)\n",
    "EQ_recent_history_clean.head()"
   ]
  },
  {
   "cell_type": "code",
   "execution_count": null,
   "id": "bcc062d9",
   "metadata": {},
   "outputs": [],
   "source": [
    "#looks OK! let's save it to a CSV file for Tableau\n",
    "EQ_recent_history_clean.to_csv(\"D:\\\\Projects\\\\Tableau\\\\My Creations\\\\Israel's Earthquakes\\\\all_EQ_cleaned.csv\", index=False)"
   ]
  }
 ],
 "metadata": {
  "kernelspec": {
   "display_name": ".venv",
   "language": "python",
   "name": "python3"
  },
  "language_info": {
   "codemirror_mode": {
    "name": "ipython",
    "version": 3
   },
   "file_extension": ".py",
   "mimetype": "text/x-python",
   "name": "python",
   "nbconvert_exporter": "python",
   "pygments_lexer": "ipython3",
   "version": "3.13.4"
  }
 },
 "nbformat": 4,
 "nbformat_minor": 5
}
